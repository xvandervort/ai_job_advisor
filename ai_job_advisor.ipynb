{
 "cells": [
  {
   "cell_type": "markdown",
   "metadata": {},
   "source": [
    "# How to Use This Notebook\n",
    "\n",
    "1. Fill in values below with your personal choices for Open AI key and model to use.\n",
    "2. Run the cells that allow you to enter your skills and previous job titles.\n",
    "3. Run the communication cell and read the output.\n",
    "\n",
    "__Disclaimer__: This is non-production research software. It is not claimed to be fit for any purpose whatsoever. In particular, the advice returned may in fact be completely wrong or even contaminated by LLM hallucinations. Use at your own risk."
   ]
  },
  {
   "cell_type": "code",
   "execution_count": 1,
   "metadata": {},
   "outputs": [],
   "source": [
    "import requests\n",
    "import openai\n",
    "import json\n",
    " \n",
    "openai.api_key = 'FILL IN YOUR PERSONAL KEY HERE'\n",
    "\n",
    "# The default model is good but if you prefer another, such as chat gpt 4 turbo, change this value as required.\n",
    "model = 'gpt-3.5-turbo'\n"
   ]
  },
  {
   "cell_type": "code",
   "execution_count": 2,
   "metadata": {},
   "outputs": [],
   "source": [
    "system_prompt = \"\"\"You are an expert job coach with a background in AI and SaaS products.\n",
    "Below is a profile of a job candidate.\n",
    "\n",
    "The profile contains a list of skills possessed or special qualifications. Each skill has a rating from 1 to 3, \n",
    "with 1 indicating beginner level ability or experience and 3 being excellent ability or experience. \n",
    "Items without ratings are more often credentials or special qualifications.\n",
    "\n",
    "Based on the profile suggest up to 3 different AI-project related roles for this person, taking into consideration \n",
    "all of the roles a team would need to bring an AI integrated product from inception to market. For each role, provide \n",
    "a description of the role and the candidate's strengths and weaknesses. Give advice for how to aim for such a role, \n",
    "including possible ways of developing their skills and advice for writing their resume to emphasize strengths. \n",
    "\n",
    "The data will be given in json. Respond with well defined markdown.\"\"\""
   ]
  },
  {
   "cell_type": "markdown",
   "metadata": {},
   "source": [
    "## Titles\n",
    "\n",
    "__The next cell will ask you to enter previous job titles one at a time. These are intended to give ChatGPT an idea of skills your experience. No one is checking to see if these titles line up with your resume! Just be honest about what you've done.__\n",
    "\n",
    "Example: Senior Front-End Engineer"
   ]
  },
  {
   "cell_type": "code",
   "execution_count": 3,
   "metadata": {},
   "outputs": [
    {
     "name": "stdout",
     "output_type": "stream",
     "text": [
      "Enter job titles you've had. Enter blank when done.\n",
      "? Senior React Engineer\n",
      "? \n"
     ]
    },
    {
     "data": {
      "text/plain": [
       "['Senior React Engineer']"
      ]
     },
     "execution_count": 3,
     "metadata": {},
     "output_type": "execute_result"
    }
   ],
   "source": [
    "print(\"Enter job titles you've had. Enter blank when done.\")\n",
    "titles = []\n",
    "current_title = \"none\"\n",
    "while True:\n",
    "    current_title = input(\"? \")\n",
    "    if current_title == \"\":\n",
    "        break\n",
    "    else:\n",
    "        titles.append(current_title)\n",
    "        \n",
    "titles"
   ]
  },
  {
   "cell_type": "markdown",
   "metadata": {},
   "source": [
    "## Skills\n",
    "\n",
    "__The next cell will ask you to enter skills you have and then a number showing your level of expertise.__ \n",
    "\n",
    "The prompt used will tell ChatGPT to look for either a 1, 2, or 3 with 1 being a complete beginner and 3 being an expert. \n",
    "\n",
    "__If you wish to use a different scale, such as 1 to 5 or a Fibonacci series, edit the prompt accordingly.__\n",
    "\n",
    "Example:\n",
    "    Skill: Python\n",
    "    Level: 2   _Note: You might be able to use 2.5 but this has only been tested with integers_\n"
   ]
  },
  {
   "cell_type": "code",
   "execution_count": 4,
   "metadata": {},
   "outputs": [
    {
     "name": "stdout",
     "output_type": "stream",
     "text": [
      "Skill? react\n",
      "Level (1=beginner; 2=medium; 3=expert)? 2\n",
      "Skill? \n"
     ]
    },
    {
     "data": {
      "text/plain": [
       "[{'react': '2'}]"
      ]
     },
     "execution_count": 4,
     "metadata": {},
     "output_type": "execute_result"
    }
   ],
   "source": [
    "skills = []\n",
    "current_skill = 'nope'\n",
    "while True:\n",
    "    current_skill = input(\"Skill? \")\n",
    "    if current_skill == \"\":\n",
    "        break\n",
    "    else:\n",
    "        level = input(\"Level (1=beginner; 2=medium; 3=expert)? \")\n",
    "        skills.append({ current_skill: level})\n",
    "\n",
    "skills"
   ]
  },
  {
   "cell_type": "markdown",
   "metadata": {},
   "source": [
    "## Ask ChatGPT\n",
    "\n",
    "__The next cell sends the prompt and your answers for skills and titles to ChatGPT and prints out its advice. Take with a grain of salt and good luck!__"
   ]
  },
  {
   "cell_type": "code",
   "execution_count": 10,
   "metadata": {},
   "outputs": [
    {
     "name": "stdout",
     "output_type": "stream",
     "text": [
      "### Role 1: Senior React Engineer\n",
      "\n",
      "**Description:**\n",
      "The role of a Senior React Engineer is to develop and maintain user interfaces for web and mobile applications using ReactJS. They are responsible for creating reusable and efficient code, collaborating with designers and backend developers, and ensuring high-performance and responsive applications. In this role, strong knowledge of ReactJS, JavaScript, and front-end development principles are essential.\n",
      "\n",
      "**Candidate's Strengths:**\n",
      "- The candidate has a rating of 2 in React, indicating a good understanding and experience with ReactJS.\n",
      "- With their React skills, they can contribute to the development of user interfaces for AI-related projects.\n",
      "\n",
      "**Candidate's Weaknesses:**\n",
      "- The candidate's profile does not list any other AI-related skills, limiting their ability to contribute to other aspects of AI project development.\n",
      "- The candidate may lack experience with more advanced React concepts or libraries beyond the beginner level.\n",
      "\n",
      "**Advice:**\n",
      "To aim for the role of Senior React Engineer in an AI-related project, the candidate should consider the following steps:\n",
      "\n",
      "1. **Expand AI-related Skills:** To increase their value in AI projects, the candidate should consider expanding their skill set beyond React. They can focus on learning other AI-related technologies such as machine learning frameworks, natural language processing, or data analysis.\n",
      "\n",
      "2. **Gain Practical Experience:** Get hands-on experience in building AI-related projects using React. The candidate can contribute to open-source AI projects, participate in AI hackathons, or work on personal AI side projects. Practical experience will help them showcase their skills and understanding of integrating AI with React.\n",
      "\n",
      "3. **Emphasize React Projects on Resume:** When applying for AI-related roles, the candidate should highlight their React projects, showcasing their ability to build user interfaces and work in a team environment. They can emphasize any AI-related projects they have worked on, even if it's in a supporting role.\n",
      "\n",
      "4. **Continuous Learning:** Stay up-to-date with the latest trends and advancements in React and AI. This can be done through online courses, attending AI conferences, and joining AI communities. Demonstrating a commitment to continuous learning will show employers that the candidate is dedicated to staying ahead in their field.\n",
      "\n",
      "By following these steps, the candidate can aim for the role of Senior React Engineer in AI-related projects and increase their chances of success.\n",
      "\n",
      "### Role 2: AI Front-end Developer\n",
      "\n",
      "**Description:**\n",
      "An AI Front-end Developer is responsible for creating user interfaces that integrate AI technologies. They work closely with data scientists and AI engineers to implement AI models and ensure smooth communication between the frontend and AI backend. Strong knowledge of front-end development, AI integration, and understanding of UX/UI principles are essential for this role.\n",
      "\n",
      "**Candidate's Strengths:**\n",
      "- The candidate has a rating of 2 in React, indicating their ability to develop user interfaces using ReactJS.\n",
      "- The candidate's React skills can be utilized in building user interfaces that interact with AI models or display AI-generated content.\n",
      "\n",
      "**Candidate's Weaknesses:**\n",
      "- The candidate may lack experience or knowledge in AI-related technologies beyond React.\n",
      "- They may not have experience in integrating front-end applications with AI models or backend AI services.\n",
      "\n",
      "**Advice:**\n",
      "To aim for the role of AI Front-end Developer, the candidate should consider the following steps:\n",
      "\n",
      "1. **Learn AI Fundamentals:** Gain a basic understanding of AI technologies, such as machine learning algorithms, neural networks, or natural language processing. This will help them better understand the integration of AI in front-end applications.\n",
      "\n",
      "2. **Gain Experience with AI Integration:** Look for opportunities to work on projects that involve AI integration. This can be done through personal AI projects, collaborating with AI developers, or contributing to open-source AI projects. By building practical experience in integrating front-end applications with AI models, the candidate can demonstrate their capability in this domain.\n",
      "\n",
      "3. **Emphasize AI Integration Projects on Resume:** Highlight any projects or experiences that involve the integration of AI technologies in their resume. Showcase their ability to work with AI engineers, data scientists, or backend developers to create seamless AI experiences in the frontend.\n",
      "\n",
      "4. **Demonstrate UX/UI Skills:** Emphasize their understanding of UX/UI principles and their ability to create visually appealing and user-friendly interfaces. This will showcase their ability to design AI user experiences that are both functional and intuitive.\n",
      "\n",
      "By following these steps, the candidate can aim for the role of AI Front-end Developer and demonstrate their ability to integrate AI technologies into user interfaces.\n",
      "\n",
      "### Role 3: AI Product Manager\n",
      "\n",
      "**Description:**\n",
      "An AI Product Manager is responsible for overseeing the development and delivery of AI-integrated products. They collaborate with cross-functional teams including data scientists, AI engineers, designers, and developers to define product vision, prioritize features, and ensure successful execution of AI projects. Strong project management, communication, and understanding of AI technologies are essential for this role.\n",
      "\n",
      "**Candidate's Strengths:**\n",
      "- The candidate's profile does not list strong technical ratings, indicating their potential strength lies in project management and communication skills.\n",
      "- Their understanding of React and front-end development can be an asset in effectively communicating with technical teams.\n",
      "\n",
      "**Candidate's Weaknesses:**\n",
      "- The candidate may lack direct experience in managing AI projects.\n",
      "- Limited technical skills may limit their ability to fully grasp and communicate complex AI concepts.\n",
      "\n",
      "**Advice:**\n",
      "To aim for the role of AI Product Manager, the candidate should consider the following steps:\n",
      "\n",
      "1. **Gain Knowledge of AI Technologies:** Develop a strong understanding of AI concepts, technologies, and their applications. This can be achieved through online courses, self-study, or by collaborating with AI teams to get practical exposure.\n",
      "\n",
      "2. **Enhance Project Management Skills:** Strengthen their project management skills, including Agile methodologies, product lifecycle management, and cross-functional team collaboration. This can be done through certifications, attending project management workshops, or seeking mentorship from experienced product managers.\n",
      "\n",
      "3. **Emphasize Leadership and Communication Skills:** Highlight their ability to lead teams, collaborate with stakeholders, and effectively communicate complex concepts to both technical and non-technical audiences. Showcase any previous experience in project management or leadership roles.\n",
      "\n",
      "4. **Highlight Cross-Functional Experience:** Emphasize any experience working with cross-functional teams, such as designers, developers, and data scientists. This will demonstrate their ability to coordinate and lead teams with diverse skill sets.\n",
      "\n",
      "By following these steps, the candidate can aim for the role of AI Product Manager and bring their project management and communication skills to AI-integrated product development.\n"
     ]
    }
   ],
   "source": [
    "data = {\n",
    "    \"skills\": skills,\n",
    "    \"job titles\": titles\n",
    "}\n",
    "data_string = json.dumps(data, indent=4)\n",
    "response = openai.chat.completions.create(\n",
    "    model=model,\n",
    "    messages=[\n",
    "        {\n",
    "            \"role\": \"system\",\n",
    "            \"content\": system_prompt,\n",
    "        },\n",
    "        {\n",
    "            \"role\": \"user\",\n",
    "            \"content\": data_string\n",
    "        }\n",
    "    ],\n",
    ")\n",
    "print(response.choices[0].message.content)"
   ]
  },
  {
   "cell_type": "code",
   "execution_count": null,
   "metadata": {},
   "outputs": [],
   "source": []
  }
 ],
 "metadata": {
  "kernelspec": {
   "display_name": "Python 3 (ipykernel)",
   "language": "python",
   "name": "python3"
  },
  "language_info": {
   "codemirror_mode": {
    "name": "ipython",
    "version": 3
   },
   "file_extension": ".py",
   "mimetype": "text/x-python",
   "name": "python",
   "nbconvert_exporter": "python",
   "pygments_lexer": "ipython3",
   "version": "3.8.10"
  }
 },
 "nbformat": 4,
 "nbformat_minor": 4
}
